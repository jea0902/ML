{
 "cells": [
  {
   "cell_type": "code",
   "execution_count": 1,
   "id": "dec9cb7e",
   "metadata": {},
   "outputs": [],
   "source": [
    "import pandas as pd\n",
    "import numpy as np\n",
    "import seaborn as sns"
   ]
  },
  {
   "cell_type": "code",
   "execution_count": 2,
   "id": "552d6085",
   "metadata": {},
   "outputs": [],
   "source": [
    "product = pd.read_excel('제품별판매량.xlsx')"
   ]
  },
  {
   "cell_type": "code",
   "execution_count": 3,
   "id": "1607d061",
   "metadata": {},
   "outputs": [
    {
     "data": {
      "text/html": [
       "<div>\n",
       "<style scoped>\n",
       "    .dataframe tbody tr th:only-of-type {\n",
       "        vertical-align: middle;\n",
       "    }\n",
       "\n",
       "    .dataframe tbody tr th {\n",
       "        vertical-align: top;\n",
       "    }\n",
       "\n",
       "    .dataframe thead th {\n",
       "        text-align: right;\n",
       "    }\n",
       "</style>\n",
       "<table border=\"1\" class=\"dataframe\">\n",
       "  <thead>\n",
       "    <tr style=\"text-align: right;\">\n",
       "      <th></th>\n",
       "      <th>년도</th>\n",
       "      <th>A제품</th>\n",
       "      <th>B제품</th>\n",
       "    </tr>\n",
       "  </thead>\n",
       "  <tbody>\n",
       "    <tr>\n",
       "      <th>0</th>\n",
       "      <td>2015</td>\n",
       "      <td>240</td>\n",
       "      <td>250</td>\n",
       "    </tr>\n",
       "    <tr>\n",
       "      <th>1</th>\n",
       "      <td>2016</td>\n",
       "      <td>260</td>\n",
       "      <td>280</td>\n",
       "    </tr>\n",
       "    <tr>\n",
       "      <th>2</th>\n",
       "      <td>2017</td>\n",
       "      <td>270</td>\n",
       "      <td>270</td>\n",
       "    </tr>\n",
       "    <tr>\n",
       "      <th>3</th>\n",
       "      <td>2018</td>\n",
       "      <td>290</td>\n",
       "      <td>280</td>\n",
       "    </tr>\n",
       "    <tr>\n",
       "      <th>4</th>\n",
       "      <td>2019</td>\n",
       "      <td>360</td>\n",
       "      <td>360</td>\n",
       "    </tr>\n",
       "  </tbody>\n",
       "</table>\n",
       "</div>"
      ],
      "text/plain": [
       "     년도  A제품  B제품\n",
       "0  2015  240  250\n",
       "1  2016  260  280\n",
       "2  2017  270  270\n",
       "3  2018  290  280\n",
       "4  2019  360  360"
      ]
     },
     "execution_count": 3,
     "metadata": {},
     "output_type": "execute_result"
    }
   ],
   "source": [
    "product"
   ]
  },
  {
   "cell_type": "code",
   "execution_count": 4,
   "id": "a5f017f2",
   "metadata": {},
   "outputs": [],
   "source": [
    "# Compund Annual Growth Rate 연평균 성장률 계산 함수\n",
    "\n",
    "def cagr(start,end,len):\n",
    "    return (end/start)**(1/len)-1"
   ]
  },
  {
   "cell_type": "code",
   "execution_count": 6,
   "id": "0e177114",
   "metadata": {},
   "outputs": [
    {
     "data": {
      "text/plain": [
       "[240, 260, 270, 290, 360]"
      ]
     },
     "execution_count": 6,
     "metadata": {},
     "output_type": "execute_result"
    }
   ],
   "source": [
    "product_a = list(product['A제품'])\n",
    "product_a"
   ]
  },
  {
   "cell_type": "code",
   "execution_count": 7,
   "id": "9cad0d74",
   "metadata": {},
   "outputs": [
    {
     "data": {
      "text/plain": [
       "0.08447177119769855"
      ]
     },
     "execution_count": 7,
     "metadata": {},
     "output_type": "execute_result"
    }
   ],
   "source": [
    "cagr_A = cagr(product_a[0], product_a[-1], len(product_a))\n",
    "cagr_A # 연평균 성장률 계산 함수"
   ]
  },
  {
   "cell_type": "code",
   "execution_count": 8,
   "id": "c38eb2ea",
   "metadata": {},
   "outputs": [
    {
     "data": {
      "text/plain": [
       "[250, 280, 270, 280, 360]"
      ]
     },
     "execution_count": 8,
     "metadata": {},
     "output_type": "execute_result"
    }
   ],
   "source": [
    "product_b = list(product['B제품'])\n",
    "product_b"
   ]
  },
  {
   "cell_type": "code",
   "execution_count": 9,
   "id": "22bcd611",
   "metadata": {},
   "outputs": [
    {
     "data": {
      "text/plain": [
       "0.07565375693257015"
      ]
     },
     "execution_count": 9,
     "metadata": {},
     "output_type": "execute_result"
    }
   ],
   "source": [
    "cagr_B = cagr(product_b[0],product_b[-1],len(product_b))\n",
    "cagr_B"
   ]
  },
  {
   "cell_type": "code",
   "execution_count": 10,
   "id": "b9af5a9c",
   "metadata": {},
   "outputs": [
    {
     "data": {
      "text/plain": [
       "'A제품 연평균 판매 증가율 : 8.45%, B제품 연평균 판매 증가율 : 7.57%'"
      ]
     },
     "execution_count": 10,
     "metadata": {},
     "output_type": "execute_result"
    }
   ],
   "source": [
    "f'A제품 연평균 판매 증가율 : {cagr_A:.2%}, B제품 연평균 판매 증가율 : {cagr_B:.2%}'"
   ]
  },
  {
   "cell_type": "code",
   "execution_count": null,
   "id": "65eff924",
   "metadata": {},
   "outputs": [],
   "source": []
  }
 ],
 "metadata": {
  "kernelspec": {
   "display_name": "Python 3 (ipykernel)",
   "language": "python",
   "name": "python3"
  },
  "language_info": {
   "codemirror_mode": {
    "name": "ipython",
    "version": 3
   },
   "file_extension": ".py",
   "mimetype": "text/x-python",
   "name": "python",
   "nbconvert_exporter": "python",
   "pygments_lexer": "ipython3",
   "version": "3.10.9"
  }
 },
 "nbformat": 4,
 "nbformat_minor": 5
}
