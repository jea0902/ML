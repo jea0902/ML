{
 "cells": [
  {
   "cell_type": "markdown",
   "metadata": {
    "id": "MusV5YYT6kQF"
   },
   "source": [
    "# 순환 신경망으로 IMDB 리뷰 분류하기"
   ]
  },
  {
   "cell_type": "markdown",
   "metadata": {
    "id": "9uYfRb5-6kQQ"
   },
   "source": [
    "<table align=\"left\">\n",
    "  <td>\n",
    "    <a target=\"_blank\" href=\"https://colab.research.google.com/github/rickiepark/hg-mldl/blob/master/9-2.ipynb\"><img src=\"https://www.tensorflow.org/images/colab_logo_32px.png\" />구글 코랩에서 실행하기</a>\n",
    "  </td>\n",
    "</table>"
   ]
  },
  {
   "cell_type": "code",
   "execution_count": 1,
   "metadata": {
    "id": "oBxL32NvSEVb"
   },
   "outputs": [],
   "source": [
    "# 실행마다 동일한 결과를 얻기 위해 케라스에\n",
    "# 랜덤 시드를 사용하고 텐서플로 연산을 결정적으로 만듭니다. \n",
    "import tensorflow as tf\n",
    "\n",
    "tf.keras.utils.set_random_seed(42)\n",
    "tf.config.experimental.enable_op_determinism()"
   ]
  },
  {
   "cell_type": "markdown",
   "metadata": {
    "id": "S1A-DDIQ6kQQ"
   },
   "source": [
    "## IMDB 리뷰 데이터셋"
   ]
  },
  {
   "cell_type": "code",
   "execution_count": 2,
   "metadata": {
    "colab": {
     "base_uri": "https://localhost:8080/"
    },
    "id": "sZoZm1ZO6kQR",
    "outputId": "970e9522-28c6-4b10-b671-1f5eff9f90a4"
   },
   "outputs": [
    {
     "name": "stdout",
     "output_type": "stream",
     "text": [
      "Downloading data from https://storage.googleapis.com/tensorflow/tf-keras-datasets/imdb.npz\n",
      "17464789/17464789 [==============================] - 2s 0us/step\n"
     ]
    }
   ],
   "source": [
    "from tensorflow.keras.datasets import imdb\n",
    "\n",
    "(train_input, train_target), (test_input, test_target) = imdb.load_data(\n",
    "    num_words=300)"
   ]
  },
  {
   "cell_type": "code",
   "execution_count": 6,
   "metadata": {
    "colab": {
     "base_uri": "https://localhost:8080/"
    },
    "id": "HTFjz6k06kQR",
    "outputId": "0cccf892-3183-448d-9f94-7c010dac1edf"
   },
   "outputs": [
    {
     "name": "stdout",
     "output_type": "stream",
     "text": [
      "(25000,) (25000,)\n"
     ]
    }
   ],
   "source": [
    "print(train_input.shape, test_input.shape)"
   ]
  },
  {
   "cell_type": "code",
   "execution_count": 7,
   "metadata": {
    "colab": {
     "base_uri": "https://localhost:8080/"
    },
    "id": "4jMLURzw6kQS",
    "outputId": "c0302727-ad47-4964-86b7-24796b6f4e8c"
   },
   "outputs": [
    {
     "name": "stdout",
     "output_type": "stream",
     "text": [
      "218\n"
     ]
    }
   ],
   "source": [
    "print(len(train_input[0]))"
   ]
  },
  {
   "cell_type": "code",
   "execution_count": 8,
   "metadata": {
    "colab": {
     "base_uri": "https://localhost:8080/"
    },
    "id": "xdO834PL6kQT",
    "outputId": "e4c8fd95-ca85-4ddf-b6c3-88980854037d"
   },
   "outputs": [
    {
     "name": "stdout",
     "output_type": "stream",
     "text": [
      "189\n"
     ]
    }
   ],
   "source": [
    "print(len(train_input[1]))"
   ]
  },
  {
   "cell_type": "code",
   "execution_count": 9,
   "metadata": {
    "colab": {
     "base_uri": "https://localhost:8080/"
    },
    "id": "QNuzGQ2c6kQT",
    "outputId": "5ecec504-954f-4041-fc0f-510564c2fded"
   },
   "outputs": [
    {
     "name": "stdout",
     "output_type": "stream",
     "text": [
      "[1, 14, 22, 16, 43, 2, 2, 2, 2, 65, 2, 2, 66, 2, 4, 173, 36, 256, 5, 25, 100, 43, 2, 112, 50, 2, 2, 9, 35, 2, 284, 5, 150, 4, 172, 112, 167, 2, 2, 2, 39, 4, 172, 2, 2, 17, 2, 38, 13, 2, 4, 192, 50, 16, 6, 147, 2, 19, 14, 22, 4, 2, 2, 2, 4, 22, 71, 87, 12, 16, 43, 2, 38, 76, 15, 13, 2, 4, 22, 17, 2, 17, 12, 16, 2, 18, 2, 5, 62, 2, 12, 8, 2, 8, 106, 5, 4, 2, 2, 16, 2, 66, 2, 33, 4, 130, 12, 16, 38, 2, 5, 25, 124, 51, 36, 135, 48, 25, 2, 33, 6, 22, 12, 215, 28, 77, 52, 5, 14, 2, 16, 82, 2, 8, 4, 107, 117, 2, 15, 256, 4, 2, 7, 2, 5, 2, 36, 71, 43, 2, 2, 26, 2, 2, 46, 7, 4, 2, 2, 13, 104, 88, 4, 2, 15, 297, 98, 32, 2, 56, 26, 141, 6, 194, 2, 18, 4, 226, 22, 21, 134, 2, 26, 2, 5, 144, 30, 2, 18, 51, 36, 28, 224, 92, 25, 104, 4, 226, 65, 16, 38, 2, 88, 12, 16, 283, 5, 16, 2, 113, 103, 32, 15, 16, 2, 19, 178, 32]\n"
     ]
    }
   ],
   "source": [
    "print(train_input[0])"
   ]
  },
  {
   "cell_type": "code",
   "execution_count": 10,
   "metadata": {
    "colab": {
     "base_uri": "https://localhost:8080/"
    },
    "id": "In8Qzltz6kQT",
    "outputId": "9081c841-cee5-4099-c090-2c0e068325a8"
   },
   "outputs": [
    {
     "name": "stdout",
     "output_type": "stream",
     "text": [
      "[1 0 0 1 0 0 1 0 1 0 1 0 0 0 0 0 1 1 0 1]\n"
     ]
    }
   ],
   "source": [
    "print(train_target[:20])"
   ]
  },
  {
   "cell_type": "code",
   "execution_count": 11,
   "metadata": {
    "id": "0-zjNgBw6kQU"
   },
   "outputs": [],
   "source": [
    "from sklearn.model_selection import train_test_split\n",
    "\n",
    "train_input, val_input, train_target, val_target = train_test_split(\n",
    "    train_input, train_target, test_size=0.2, random_state=42)"
   ]
  },
  {
   "cell_type": "code",
   "execution_count": 12,
   "metadata": {
    "id": "sRVvgntx6kQU"
   },
   "outputs": [],
   "source": [
    "import numpy as np\n",
    "\n",
    "lengths = np.array([len(x) for x in train_input])"
   ]
  },
  {
   "cell_type": "code",
   "execution_count": 13,
   "metadata": {
    "colab": {
     "base_uri": "https://localhost:8080/"
    },
    "id": "p76m_61w6kQU",
    "outputId": "c873585c-6028-4e5d-c91a-35ff52d51ead"
   },
   "outputs": [
    {
     "name": "stdout",
     "output_type": "stream",
     "text": [
      "239.00925 178.0\n"
     ]
    }
   ],
   "source": [
    "print(np.mean(lengths), np.median(lengths))"
   ]
  },
  {
   "cell_type": "code",
   "execution_count": 14,
   "metadata": {
    "colab": {
     "base_uri": "https://localhost:8080/",
     "height": 279
    },
    "id": "TVDrsRYF6kQV",
    "outputId": "bc047aa2-e3cd-4739-df78-cd374d1a7f9a",
    "scrolled": true
   },
   "outputs": [
    {
     "data": {
      "image/png": "[encoded data removed]",
      "text/plain": [
       "<Figure size 640x480 with 1 Axes>"
      ]
     },
     "metadata": {},
     "output_type": "display_data"
    }
   ],
   "source": [
    "import matplotlib.pyplot as plt\n",
    "\n",
    "plt.hist(lengths)\n",
    "plt.xlabel('length')\n",
    "plt.ylabel('frequency')\n",
    "plt.show()"
   ]
  },
  {
   "cell_type": "code",
   "execution_count": 15,
   "metadata": {
    "id": "fbLSFToP6kQV"
   },
   "outputs": [],
   "source": [
    "from tensorflow.keras.preprocessing.sequence import pad_sequences\n",
    "\n",
    "train_seq = pad_sequences(train_input, maxlen=100)"
   ]
  },
  {
   "cell_type": "code",
   "execution_count": 16,
   "metadata": {
    "colab": {
     "base_uri": "https://localhost:8080/"
    },
    "id": "3c86x0Yj6kQV",
    "outputId": "bf91a6f2-daf8-41bb-bcb7-2271a41a7fec"
   },
   "outputs": [
    {
     "name": "stdout",
     "output_type": "stream",
     "text": [
      "(20000, 100)\n"
     ]
    }
   ],
   "source": [
    "print(train_seq.shape)"
   ]
  },
  {
   "cell_type": "code",
   "execution_count": 17,
   "metadata": {
    "colab": {
     "base_uri": "https://localhost:8080/"
    },
    "id": "JuP0QJaU6kQW",
    "outputId": "4ffc9996-fb18-494f-9b3a-c7bc11455f54"
   },
   "outputs": [
    {
     "name": "stdout",
     "output_type": "stream",
     "text": [
      "[ 10   4  20   9   2   2   2   5  45   6   2   2  33 269   8   2 142   2\n",
      "   5   2  17  73  17 204   5   2  19  55   2   2  92  66 104  14  20  93\n",
      "  76   2 151  33   4  58  12 188   2 151  12 215  69 224 142  73 237   6\n",
      "   2   7   2   2 188   2 103  14  31  10  10   2   7   2   5   2  80  91\n",
      "   2  30   2  34  14  20 151  50  26 131  49   2  84  46  50  37  80  79\n",
      "   6   2  46   7  14  20  10  10   2 158]\n"
     ]
    }
   ],
   "source": [
    "print(train_seq[0])"
   ]
  },
  {
   "cell_type": "code",
   "execution_count": 18,
   "metadata": {
    "colab": {
     "base_uri": "https://localhost:8080/"
    },
    "id": "6t8kaDji6kQW",
    "outputId": "cd06e51f-e10c-49c6-bba5-d0d2fa0360e3"
   },
   "outputs": [
    {
     "name": "stdout",
     "output_type": "stream",
     "text": [
      "[6, 2, 46, 7, 14, 20, 10, 10, 2, 158]\n"
     ]
    }
   ],
   "source": [
    "print(train_input[0][-10:])"
   ]
  },
  {
   "cell_type": "code",
   "execution_count": 19,
   "metadata": {
    "colab": {
     "base_uri": "https://localhost:8080/"
    },
    "id": "Emmoztwa6kQX",
    "outputId": "0a5572e2-b455-4c83-e115-4a1a05612353",
    "scrolled": true
   },
   "outputs": [
    {
     "name": "stdout",
     "output_type": "stream",
     "text": [
      "[  0   0   0   0   1   2 195  19  49   2   2 190   4   2   2   2 183  10\n",
      "  10  13  82  79   4   2  36  71 269   8   2  25  19  49   7   4   2   2\n",
      "   2   2   2  10  10  48  25  40   2  11   2   2  40   2   2   5   4   2\n",
      "   2  95  14 238  56 129   2  10  10  21   2  94   2   2   2   2  11 190\n",
      "  24   2   2   7  94 205   2  10  10  87   2  34  49   2   7   2   2   2\n",
      "   2   2 290   2  46  48  64  18   4   2]\n"
     ]
    }
   ],
   "source": [
    "print(train_seq[5])"
   ]
  },
  {
   "cell_type": "code",
   "execution_count": 20,
   "metadata": {
    "id": "ZeFmsjOd6kQX"
   },
   "outputs": [],
   "source": [
    "val_seq = pad_sequences(val_input, maxlen=100)"
   ]
  },
  {
   "cell_type": "markdown",
   "metadata": {
    "id": "9xab0nu_6kQX"
   },
   "source": [
    "## 순환 신경망 만들기"
   ]
  },
  {
   "cell_type": "code",
   "execution_count": 21,
   "metadata": {
    "id": "45BtHGKX6kQX"
   },
   "outputs": [],
   "source": [
    "from tensorflow import keras\n",
    "\n",
    "model = keras.Sequential()\n",
    "\n",
    "model.add(keras.layers.SimpleRNN(8, input_shape=(100, 300)))\n",
    "model.add(keras.layers.Dense(1, activation='sigmoid'))"
   ]
  },
  {
   "cell_type": "code",
   "execution_count": 22,
   "metadata": {
    "id": "oXIWyOuw6kQY"
   },
   "outputs": [],
   "source": [
    "train_oh = keras.utils.to_categorical(train_seq)"
   ]
  },
  {
   "cell_type": "code",
   "execution_count": 23,
   "metadata": {
    "colab": {
     "base_uri": "https://localhost:8080/"
    },
    "id": "VD94WiRT6kQY",
    "outputId": "a97218f5-804c-4060-c537-1df582173c52"
   },
   "outputs": [
    {
     "name": "stdout",
     "output_type": "stream",
     "text": [
      "(20000, 100, 300)\n"
     ]
    }
   ],
   "source": [
    "print(train_oh.shape)"
   ]
  },
  {
   "cell_type": "code",
   "execution_count": 24,
   "metadata": {
    "colab": {
     "base_uri": "https://localhost:8080/"
    },
    "id": "VIVSHwJg6kQY",
    "outputId": "c2df3582-854d-4b89-8d80-b8411a6df5c0"
   },
   "outputs": [
    {
     "name": "stdout",
     "output_type": "stream",
     "text": [
      "[0. 0. 0. 0. 0. 0. 0. 0. 0. 0. 1. 0.]\n"
     ]
    }
   ],
   "source": [
    "print(train_oh[0][0][:12])"
   ]
  },
  {
   "cell_type": "code",
   "execution_count": 25,
   "metadata": {
    "colab": {
     "base_uri": "https://localhost:8080/"
    },
    "id": "CP3ivii46kQZ",
    "outputId": "802d01d6-0d4f-4ec9-a5ea-2a4bbccb3fa9"
   },
   "outputs": [
    {
     "name": "stdout",
     "output_type": "stream",
     "text": [
      "1.0\n"
     ]
    }
   ],
   "source": [
    "print(np.sum(train_oh[0][0]))"
   ]
  },
  {
   "cell_type": "code",
   "execution_count": 26,
   "metadata": {
    "id": "vgijH6m26kQZ"
   },
   "outputs": [],
   "source": [
    "val_oh = keras.utils.to_categorical(val_seq)"
   ]
  },
  {
   "cell_type": "code",
   "execution_count": 27,
   "metadata": {
    "colab": {
     "base_uri": "https://localhost:8080/"
    },
    "id": "0V0Svpuf6kQZ",
    "outputId": "5262a7c4-bb80-47fa-e149-ff02fc13b033"
   },
   "outputs": [
    {
     "name": "stdout",
     "output_type": "stream",
     "text": [
      "Model: \"sequential\"\n",
      "_________________________________________________________________\n",
      " Layer (type)                Output Shape              Param #   \n",
      "=================================================================\n",
      " simple_rnn (SimpleRNN)      (None, 8)                 2472      \n",
      "                                                                 \n",
      " dense (Dense)               (None, 1)                 9         \n",
      "                                                                 \n",
      "=================================================================\n",
      "Total params: 2,481\n",
      "Trainable params: 2,481\n",
      "Non-trainable params: 0\n",
      "_________________________________________________________________\n"
     ]
    }
   ],
   "source": [
    "model.summary()"
   ]
  },
  {
   "cell_type": "markdown",
   "metadata": {
    "id": "S22Hc-7L6kQZ"
   },
   "source": [
    "## 순환 신경망 훈련하기"
   ]
  },
  {
   "cell_type": "code",
   "execution_count": 28,
   "metadata": {
    "colab": {
     "base_uri": "https://localhost:8080/"
    },
    "id": "YcwM299t6kQZ",
    "outputId": "a5d754f7-649a-4349-ab48-861a0c3f514f"
   },
   "outputs": [
    {
     "name": "stdout",
     "output_type": "stream",
     "text": [
      "Epoch 1/100\n",
      "313/313 [==============================] - 29s 75ms/step - loss: 0.7003 - accuracy: 0.4999 - val_loss: 0.6970 - val_accuracy: 0.5058\n",
      "Epoch 2/100\n",
      "313/313 [==============================] - 22s 70ms/step - loss: 0.6956 - accuracy: 0.5124 - val_loss: 0.6946 - val_accuracy: 0.5124\n",
      "Epoch 3/100\n",
      "313/313 [==============================] - 21s 69ms/step - loss: 0.6917 - accuracy: 0.5288 - val_loss: 0.6909 - val_accuracy: 0.5316\n",
      "Epoch 4/100\n",
      "313/313 [==============================] - 22s 69ms/step - loss: 0.6843 - accuracy: 0.5556 - val_loss: 0.6832 - val_accuracy: 0.5690\n",
      "Epoch 5/100\n",
      "313/313 [==============================] - 21s 68ms/step - loss: 0.6783 - accuracy: 0.5778 - val_loss: 0.6792 - val_accuracy: 0.5742\n",
      "Epoch 6/100\n",
      "313/313 [==============================] - 21s 68ms/step - loss: 0.6730 - accuracy: 0.5923 - val_loss: 0.6755 - val_accuracy: 0.5846\n",
      "Epoch 7/100\n",
      "313/313 [==============================] - 21s 69ms/step - loss: 0.6679 - accuracy: 0.6051 - val_loss: 0.6696 - val_accuracy: 0.5970\n",
      "Epoch 8/100\n",
      "313/313 [==============================] - 21s 68ms/step - loss: 0.6618 - accuracy: 0.6155 - val_loss: 0.6639 - val_accuracy: 0.6096\n",
      "Epoch 9/100\n",
      "313/313 [==============================] - 22s 69ms/step - loss: 0.6550 - accuracy: 0.6295 - val_loss: 0.6569 - val_accuracy: 0.6208\n",
      "Epoch 10/100\n",
      "313/313 [==============================] - 21s 69ms/step - loss: 0.6473 - accuracy: 0.6418 - val_loss: 0.6485 - val_accuracy: 0.6388\n",
      "Epoch 11/100\n",
      "313/313 [==============================] - 22s 70ms/step - loss: 0.6384 - accuracy: 0.6561 - val_loss: 0.6411 - val_accuracy: 0.6508\n",
      "Epoch 12/100\n",
      "313/313 [==============================] - 22s 69ms/step - loss: 0.6295 - accuracy: 0.6658 - val_loss: 0.6308 - val_accuracy: 0.6620\n",
      "Epoch 13/100\n",
      "313/313 [==============================] - 22s 70ms/step - loss: 0.6193 - accuracy: 0.6795 - val_loss: 0.6210 - val_accuracy: 0.6742\n",
      "Epoch 14/100\n",
      "313/313 [==============================] - 22s 70ms/step - loss: 0.6093 - accuracy: 0.6880 - val_loss: 0.6114 - val_accuracy: 0.6862\n",
      "Epoch 15/100\n",
      "313/313 [==============================] - 22s 69ms/step - loss: 0.5994 - accuracy: 0.6992 - val_loss: 0.6035 - val_accuracy: 0.6914\n",
      "Epoch 16/100\n",
      "313/313 [==============================] - 22s 69ms/step - loss: 0.5900 - accuracy: 0.7082 - val_loss: 0.5926 - val_accuracy: 0.6990\n",
      "Epoch 17/100\n",
      "313/313 [==============================] - 22s 69ms/step - loss: 0.5814 - accuracy: 0.7123 - val_loss: 0.5850 - val_accuracy: 0.7014\n",
      "Epoch 18/100\n",
      "313/313 [==============================] - 22s 69ms/step - loss: 0.5735 - accuracy: 0.7200 - val_loss: 0.5778 - val_accuracy: 0.7090\n",
      "Epoch 19/100\n",
      "313/313 [==============================] - 22s 70ms/step - loss: 0.5649 - accuracy: 0.7256 - val_loss: 0.5687 - val_accuracy: 0.7156\n",
      "Epoch 20/100\n",
      "313/313 [==============================] - 22s 70ms/step - loss: 0.5568 - accuracy: 0.7322 - val_loss: 0.5614 - val_accuracy: 0.7216\n",
      "Epoch 21/100\n",
      "313/313 [==============================] - 22s 69ms/step - loss: 0.5506 - accuracy: 0.7352 - val_loss: 0.5549 - val_accuracy: 0.7248\n",
      "Epoch 22/100\n",
      "313/313 [==============================] - 22s 70ms/step - loss: 0.5439 - accuracy: 0.7400 - val_loss: 0.5505 - val_accuracy: 0.7268\n",
      "Epoch 23/100\n",
      "313/313 [==============================] - 22s 69ms/step - loss: 0.5374 - accuracy: 0.7436 - val_loss: 0.5459 - val_accuracy: 0.7296\n",
      "Epoch 24/100\n",
      "313/313 [==============================] - 22s 69ms/step - loss: 0.5330 - accuracy: 0.7476 - val_loss: 0.5407 - val_accuracy: 0.7336\n",
      "Epoch 25/100\n",
      "313/313 [==============================] - 22s 71ms/step - loss: 0.5290 - accuracy: 0.7485 - val_loss: 0.5372 - val_accuracy: 0.7350\n",
      "Epoch 26/100\n",
      "313/313 [==============================] - 22s 70ms/step - loss: 0.5254 - accuracy: 0.7524 - val_loss: 0.5343 - val_accuracy: 0.7392\n",
      "Epoch 27/100\n",
      "313/313 [==============================] - 22s 71ms/step - loss: 0.5218 - accuracy: 0.7522 - val_loss: 0.5310 - val_accuracy: 0.7414\n",
      "Epoch 28/100\n",
      "313/313 [==============================] - 22s 70ms/step - loss: 0.5188 - accuracy: 0.7551 - val_loss: 0.5325 - val_accuracy: 0.7370\n",
      "Epoch 29/100\n",
      "313/313 [==============================] - 22s 71ms/step - loss: 0.5154 - accuracy: 0.7561 - val_loss: 0.5394 - val_accuracy: 0.7332\n",
      "Epoch 30/100\n",
      "313/313 [==============================] - 22s 70ms/step - loss: 0.5127 - accuracy: 0.7577 - val_loss: 0.5249 - val_accuracy: 0.7444\n",
      "Epoch 31/100\n",
      "313/313 [==============================] - 22s 70ms/step - loss: 0.5108 - accuracy: 0.7588 - val_loss: 0.5238 - val_accuracy: 0.7450\n",
      "Epoch 32/100\n",
      "313/313 [==============================] - 21s 68ms/step - loss: 0.5084 - accuracy: 0.7600 - val_loss: 0.5237 - val_accuracy: 0.7436\n",
      "Epoch 33/100\n",
      "313/313 [==============================] - 22s 69ms/step - loss: 0.5065 - accuracy: 0.7621 - val_loss: 0.5224 - val_accuracy: 0.7444\n",
      "Epoch 34/100\n",
      "313/313 [==============================] - 22s 69ms/step - loss: 0.5040 - accuracy: 0.7615 - val_loss: 0.5228 - val_accuracy: 0.7412\n",
      "Epoch 35/100\n",
      "313/313 [==============================] - 22s 70ms/step - loss: 0.5036 - accuracy: 0.7628 - val_loss: 0.5202 - val_accuracy: 0.7492\n",
      "Epoch 36/100\n",
      "313/313 [==============================] - 22s 69ms/step - loss: 0.5019 - accuracy: 0.7642 - val_loss: 0.5181 - val_accuracy: 0.7480\n",
      "Epoch 37/100\n",
      "313/313 [==============================] - 22s 71ms/step - loss: 0.5005 - accuracy: 0.7654 - val_loss: 0.5187 - val_accuracy: 0.7478\n",
      "Epoch 38/100\n",
      "313/313 [==============================] - 22s 71ms/step - loss: 0.4988 - accuracy: 0.7655 - val_loss: 0.5206 - val_accuracy: 0.7476\n",
      "Epoch 39/100\n",
      "313/313 [==============================] - 22s 70ms/step - loss: 0.4979 - accuracy: 0.7661 - val_loss: 0.5215 - val_accuracy: 0.7458\n"
     ]
    }
   ],
   "source": [
    "rmsprop = keras.optimizers.RMSprop(learning_rate=1e-4)\n",
    "model.compile(optimizer=rmsprop, loss='binary_crossentropy', \n",
    "              metrics=['accuracy'])\n",
    "\n",
    "checkpoint_cb = keras.callbacks.ModelCheckpoint('best-simplernn-model.h5', \n",
    "                                                save_best_only=True)\n",
    "early_stopping_cb = keras.callbacks.EarlyStopping(patience=3,\n",
    "                                                  restore_best_weights=True)\n",
    "\n",
    "history = model.fit(train_oh, train_target, epochs=100, batch_size=64,\n",
    "                    validation_data=(val_oh, val_target),\n",
    "                    callbacks=[checkpoint_cb, early_stopping_cb])"
   ]
  },
  {
   "cell_type": "code",
   "execution_count": 29,
   "metadata": {
    "colab": {
     "base_uri": "https://localhost:8080/",
     "height": 279
    },
    "id": "YS_5tIG26kQa",
    "outputId": "18eda99e-1ac8-4174-9da8-2051e82e8ab6"
   },
   "outputs": [
    {
     "data": {
      "image/png": "[encoded data removed]",
      "text/plain": [
       "<Figure size 640x480 with 1 Axes>"
      ]
     },
     "metadata": {},
     "output_type": "display_data"
    }
   ],
   "source": [
    "plt.plot(history.history['loss'])\n",
    "plt.plot(history.history['val_loss'])\n",
    "plt.xlabel('epoch')\n",
    "plt.ylabel('loss')\n",
    "plt.legend(['train', 'val'])\n",
    "plt.show()"
   ]
  },
  {
   "cell_type": "markdown",
   "metadata": {
    "id": "K_U_lVie6kQa"
   },
   "source": [
    "## 단어 임베딩을 사용하기"
   ]
  },
  {
   "cell_type": "code",
   "execution_count": 30,
   "metadata": {
    "colab": {
     "base_uri": "https://localhost:8080/"
    },
    "id": "Ofl-Ifev6kQa",
    "outputId": "073eefb4-ec62-473a-ec84-54474f6b1ce3"
   },
   "outputs": [
    {
     "name": "stdout",
     "output_type": "stream",
     "text": [
      "Model: \"sequential_1\"\n",
      "_________________________________________________________________\n",
      " Layer (type)                Output Shape              Param #   \n",
      "=================================================================\n",
      " embedding (Embedding)       (None, 100, 16)           4800      \n",
      "                                                                 \n",
      " simple_rnn_1 (SimpleRNN)    (None, 8)                 200       \n",
      "                                                                 \n",
      " dense_1 (Dense)             (None, 1)                 9         \n",
      "                                                                 \n",
      "=================================================================\n",
      "Total params: 5,009\n",
      "Trainable params: 5,009\n",
      "Non-trainable params: 0\n",
      "_________________________________________________________________\n"
     ]
    }
   ],
   "source": [
    "model2 = keras.Sequential()\n",
    "\n",
    "model2.add(keras.layers.Embedding(300, 16, input_length=100))\n",
    "model2.add(keras.layers.SimpleRNN(8))\n",
    "model2.add(keras.layers.Dense(1, activation='sigmoid'))\n",
    "\n",
    "model2.summary()"
   ]
  },
  {
   "cell_type": "code",
   "execution_count": 31,
   "metadata": {
    "colab": {
     "base_uri": "https://localhost:8080/"
    },
    "id": "78TUrJAs6kQa",
    "outputId": "e25ba678-f0ee-43ae-f341-080934d2e28f"
   },
   "outputs": [
    {
     "name": "stdout",
     "output_type": "stream",
     "text": [
      "Epoch 1/100\n",
      "313/313 [==============================] - 29s 76ms/step - loss: 0.6892 - accuracy: 0.5354 - val_loss: 0.6704 - val_accuracy: 0.5876\n",
      "Epoch 2/100\n",
      "313/313 [==============================] - 23s 73ms/step - loss: 0.6398 - accuracy: 0.6467 - val_loss: 0.6233 - val_accuracy: 0.6658\n",
      "Epoch 3/100\n",
      "313/313 [==============================] - 22s 71ms/step - loss: 0.6050 - accuracy: 0.6938 - val_loss: 0.6001 - val_accuracy: 0.6954\n",
      "Epoch 4/100\n",
      "313/313 [==============================] - 22s 71ms/step - loss: 0.5830 - accuracy: 0.7172 - val_loss: 0.5888 - val_accuracy: 0.7022\n",
      "Epoch 5/100\n",
      "313/313 [==============================] - 22s 71ms/step - loss: 0.5662 - accuracy: 0.7300 - val_loss: 0.5669 - val_accuracy: 0.7300\n",
      "Epoch 6/100\n",
      "313/313 [==============================] - 22s 71ms/step - loss: 0.5525 - accuracy: 0.7411 - val_loss: 0.5535 - val_accuracy: 0.7364\n",
      "Epoch 7/100\n",
      "313/313 [==============================] - 22s 71ms/step - loss: 0.5409 - accuracy: 0.7474 - val_loss: 0.5423 - val_accuracy: 0.7414\n",
      "Epoch 8/100\n",
      "313/313 [==============================] - 22s 70ms/step - loss: 0.5312 - accuracy: 0.7509 - val_loss: 0.5439 - val_accuracy: 0.7356\n",
      "Epoch 9/100\n",
      "313/313 [==============================] - 22s 70ms/step - loss: 0.5235 - accuracy: 0.7549 - val_loss: 0.5485 - val_accuracy: 0.7196\n",
      "Epoch 10/100\n",
      "313/313 [==============================] - 22s 71ms/step - loss: 0.5177 - accuracy: 0.7574 - val_loss: 0.5380 - val_accuracy: 0.7374\n",
      "Epoch 11/100\n",
      "313/313 [==============================] - 24s 76ms/step - loss: 0.5136 - accuracy: 0.7601 - val_loss: 0.5263 - val_accuracy: 0.7444\n",
      "Epoch 12/100\n",
      "313/313 [==============================] - 24s 76ms/step - loss: 0.5094 - accuracy: 0.7610 - val_loss: 0.5263 - val_accuracy: 0.7424\n",
      "Epoch 13/100\n",
      "313/313 [==============================] - 24s 76ms/step - loss: 0.5056 - accuracy: 0.7635 - val_loss: 0.5210 - val_accuracy: 0.7456\n",
      "Epoch 14/100\n",
      "313/313 [==============================] - 24s 75ms/step - loss: 0.5028 - accuracy: 0.7650 - val_loss: 0.5216 - val_accuracy: 0.7454\n",
      "Epoch 15/100\n",
      "313/313 [==============================] - 23s 75ms/step - loss: 0.4999 - accuracy: 0.7681 - val_loss: 0.5665 - val_accuracy: 0.7000\n",
      "Epoch 16/100\n",
      "313/313 [==============================] - 23s 75ms/step - loss: 0.4974 - accuracy: 0.7679 - val_loss: 0.5157 - val_accuracy: 0.7504\n",
      "Epoch 17/100\n",
      "313/313 [==============================] - 23s 75ms/step - loss: 0.4945 - accuracy: 0.7713 - val_loss: 0.5223 - val_accuracy: 0.7442\n",
      "Epoch 18/100\n",
      "313/313 [==============================] - 23s 75ms/step - loss: 0.4927 - accuracy: 0.7715 - val_loss: 0.5154 - val_accuracy: 0.7476\n",
      "Epoch 19/100\n",
      "313/313 [==============================] - 23s 72ms/step - loss: 0.4905 - accuracy: 0.7736 - val_loss: 0.5139 - val_accuracy: 0.7444\n",
      "Epoch 20/100\n",
      "313/313 [==============================] - 23s 74ms/step - loss: 0.4880 - accuracy: 0.7745 - val_loss: 0.5124 - val_accuracy: 0.7520\n",
      "Epoch 21/100\n",
      "313/313 [==============================] - 23s 73ms/step - loss: 0.4871 - accuracy: 0.7750 - val_loss: 0.5145 - val_accuracy: 0.7510\n",
      "Epoch 22/100\n",
      "313/313 [==============================] - 23s 74ms/step - loss: 0.4847 - accuracy: 0.7771 - val_loss: 0.5159 - val_accuracy: 0.7466\n",
      "Epoch 23/100\n",
      "313/313 [==============================] - 23s 74ms/step - loss: 0.4831 - accuracy: 0.7775 - val_loss: 0.5136 - val_accuracy: 0.7512\n"
     ]
    }
   ],
   "source": [
    "rmsprop = keras.optimizers.RMSprop(learning_rate=1e-4)\n",
    "model2.compile(optimizer=rmsprop, loss='binary_crossentropy', \n",
    "               metrics=['accuracy'])\n",
    "\n",
    "checkpoint_cb = keras.callbacks.ModelCheckpoint('best-embedding-model.h5', \n",
    "                                                save_best_only=True)\n",
    "early_stopping_cb = keras.callbacks.EarlyStopping(patience=3,\n",
    "                                                  restore_best_weights=True)\n",
    "\n",
    "history = model2.fit(train_seq, train_target, epochs=100, batch_size=64,\n",
    "                     validation_data=(val_seq, val_target),\n",
    "                     callbacks=[checkpoint_cb, early_stopping_cb])"
   ]
  },
  {
   "cell_type": "code",
   "execution_count": 32,
   "metadata": {
    "colab": {
     "base_uri": "https://localhost:8080/",
     "height": 279
    },
    "id": "brUvKwLt6kQb",
    "outputId": "a4714573-fe0a-4457-d152-45f7539f3924",
    "tags": []
   },
   "outputs": [
    {
     "data": {
      "image/png": "[encoded data removed]",
      "text/plain": [
       "<Figure size 640x480 with 1 Axes>"
      ]
     },
     "metadata": {},
     "output_type": "display_data"
    }
   ],
   "source": [
    "plt.plot(history.history['loss'])\n",
    "plt.plot(history.history['val_loss'])\n",
    "plt.xlabel('epoch')\n",
    "plt.ylabel('loss')\n",
    "plt.legend(['train', 'val'])\n",
    "plt.show()"
   ]
  },
  {
   "cell_type": "code",
   "execution_count": null,
   "metadata": {},
   "outputs": [],
   "source": []
  },
  {
   "cell_type": "code",
   "execution_count": null,
   "metadata": {},
   "outputs": [],
   "source": []
  }
 ],
 "metadata": {
  "accelerator": "GPU",
  "colab": {
   "name": "9-2.ipynb",
   "provenance": []
  },
  "kernelspec": {
   "display_name": "Python 3 (ipykernel)",
   "language": "python",
   "name": "python3"
  },
  "language_info": {
   "codemirror_mode": {
    "name": "ipython",
    "version": 3
   },
   "file_extension": ".py",
   "mimetype": "text/x-python",
   "name": "python",
   "nbconvert_exporter": "python",
   "pygments_lexer": "ipython3",
   "version": "3.10.9"
  }
 },
 "nbformat": 4,
 "nbformat_minor": 1
}
