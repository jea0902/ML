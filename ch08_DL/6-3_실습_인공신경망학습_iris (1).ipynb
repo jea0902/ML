{
 "cells": [
  {
   "cell_type": "markdown",
   "metadata": {
    "id": "A4GbEm6xjkzA"
   },
   "source": [
    "# 6.3 실습 - 인공신경망 학습\n",
    "\n",
    "## 6.3.1 인공신경망 학습하기 - 기본"
   ]
  },
  {
   "cell_type": "code",
   "execution_count": 1,
   "metadata": {
    "executionInfo": {
     "elapsed": 6257,
     "status": "ok",
     "timestamp": 1652162494658,
     "user": {
      "displayName": "Jiyoung Kang",
      "userId": "02538451806768451589"
     },
     "user_tz": -540
    },
    "id": "MCDTvylTtMuD"
   },
   "outputs": [],
   "source": [
    "import numpy as np\n",
    "import pandas as pd\n",
    "import matplotlib.pyplot as plt\n",
    "import seaborn as sns #기능<미\n",
    "\n",
    "from sklearn.datasets import load_iris\n",
    "from sklearn.model_selection import train_test_split\n",
    "\n",
    "import tensorflow as tf\n",
    "\n",
    "from tensorflow.keras.models import Sequential\n",
    "from tensorflow.keras.layers import Dense"
   ]
  },
  {
   "cell_type": "code",
   "execution_count": 2,
   "metadata": {
    "colab": {
     "base_uri": "https://localhost:8080/",
     "height": 35
    },
    "executionInfo": {
     "elapsed": 55,
     "status": "ok",
     "timestamp": 1652162494660,
     "user": {
      "displayName": "Jiyoung Kang",
      "userId": "02538451806768451589"
     },
     "user_tz": -540
    },
    "id": "-q85Y4tAtMuG",
    "outputId": "afa7a279-42b1-464e-9bf0-fdab2c066dda"
   },
   "outputs": [
    {
     "data": {
      "text/plain": [
       "'2.10.0'"
      ]
     },
     "execution_count": 2,
     "metadata": {},
     "output_type": "execute_result"
    }
   ],
   "source": [
    "tf.__version__"
   ]
  },
  {
   "cell_type": "code",
   "execution_count": 3,
   "metadata": {
    "executionInfo": {
     "elapsed": 43,
     "status": "ok",
     "timestamp": 1652162494661,
     "user": {
      "displayName": "Jiyoung Kang",
      "userId": "02538451806768451589"
     },
     "user_tz": -540
    },
    "id": "EL9DC52wtMuI"
   },
   "outputs": [],
   "source": [
    "# 데이터 불러오기\n",
    "iris = load_iris()\n",
    "df = pd.DataFrame(data=iris.data, columns=iris.feature_names)\n",
    "df['label'] = iris.target"
   ]
  },
  {
   "cell_type": "code",
   "execution_count": 4,
   "metadata": {
    "executionInfo": {
     "elapsed": 43,
     "status": "ok",
     "timestamp": 1652162494662,
     "user": {
      "displayName": "Jiyoung Kang",
      "userId": "02538451806768451589"
     },
     "user_tz": -540
    },
    "id": "F8wOt6UFtMuI"
   },
   "outputs": [],
   "source": [
    "# 데이터분할\n",
    "y = df['label']\n",
    "X = df.drop(['label'], axis=1)\n",
    "\n",
    "X_train, X_test, y_train, y_test = train_test_split(X, y, random_state=42, stratify=y)"
   ]
  },
  {
   "cell_type": "code",
   "execution_count": 5,
   "metadata": {
    "colab": {
     "base_uri": "https://localhost:8080/"
    },
    "executionInfo": {
     "elapsed": 42,
     "status": "ok",
     "timestamp": 1652162494663,
     "user": {
      "displayName": "Jiyoung Kang",
      "userId": "02538451806768451589"
     },
     "user_tz": -540
    },
    "id": "Ik1cha9RuZGI",
    "outputId": "3ea7fdc9-f532-4ad1-885d-12bdd1b3fbfc"
   },
   "outputs": [
    {
     "data": {
      "text/plain": [
       "(112, 4)"
      ]
     },
     "execution_count": 5,
     "metadata": {},
     "output_type": "execute_result"
    }
   ],
   "source": [
    "X_train.shape"
   ]
  },
  {
   "cell_type": "code",
   "execution_count": 7,
   "metadata": {
    "executionInfo": {
     "elapsed": 531,
     "status": "ok",
     "timestamp": 1652162495163,
     "user": {
      "displayName": "Jiyoung Kang",
      "userId": "02538451806768451589"
     },
     "user_tz": -540
    },
    "id": "EocOIXDhtMuJ"
   },
   "outputs": [],
   "source": [
    "# 모델의 설정\n",
    "model = Sequential()\n",
    "model.add(Dense(8, input_dim=4, activation='relu')) # 은닉\n",
    "model.add(Dense(3, activation='softmax')) # 출력"
   ]
  },
  {
   "cell_type": "code",
   "execution_count": 8,
   "metadata": {
    "executionInfo": {
     "elapsed": 10,
     "status": "ok",
     "timestamp": 1652162495164,
     "user": {
      "displayName": "Jiyoung Kang",
      "userId": "02538451806768451589"
     },
     "user_tz": -540
    },
    "id": "8Y-j_4lTtMuJ"
   },
   "outputs": [],
   "source": [
    "# 모델 컴파일\n",
    "model.compile(loss='sparse_categorical_crossentropy',\n",
    "            optimizer='adam',\n",
    "            metrics=['accuracy'])"
   ]
  },
  {
   "cell_type": "code",
   "execution_count": 9,
   "metadata": {
    "colab": {
     "base_uri": "https://localhost:8080/"
    },
    "executionInfo": {
     "elapsed": 10,
     "status": "ok",
     "timestamp": 1652162495164,
     "user": {
      "displayName": "Jiyoung Kang",
      "userId": "02538451806768451589"
     },
     "user_tz": -540
    },
    "id": "JlCK_NpLtMuK",
    "outputId": "4bf106ee-7c14-49fc-9157-12db8ef6b81d"
   },
   "outputs": [
    {
     "name": "stdout",
     "output_type": "stream",
     "text": [
      "Model: \"sequential\"\n",
      "_________________________________________________________________\n",
      " Layer (type)                Output Shape              Param #   \n",
      "=================================================================\n",
      " dense (Dense)               (None, 8)                 40        \n",
      "                                                                 \n",
      " dense_1 (Dense)             (None, 3)                 27        \n",
      "                                                                 \n",
      "=================================================================\n",
      "Total params: 67\n",
      "Trainable params: 67\n",
      "Non-trainable params: 0\n",
      "_________________________________________________________________\n"
     ]
    }
   ],
   "source": [
    "model.summary()"
   ]
  },
  {
   "cell_type": "code",
   "execution_count": 10,
   "metadata": {
    "colab": {
     "base_uri": "https://localhost:8080/"
    },
    "executionInfo": {
     "elapsed": 6067,
     "status": "ok",
     "timestamp": 1652162501227,
     "user": {
      "displayName": "Jiyoung Kang",
      "userId": "02538451806768451589"
     },
     "user_tz": -540
    },
    "id": "3rCCn4FbtMuL",
    "outputId": "226c8c4f-5786-4680-dd72-1ecbd6de8122"
   },
   "outputs": [
    {
     "name": "stdout",
     "output_type": "stream",
     "text": [
      "Epoch 1/50\n",
      "28/28 [==============================] - 2s 1ms/step - loss: 1.7080 - accuracy: 0.3304  \n",
      "Epoch 2/50\n",
      "28/28 [==============================] - 0s 1ms/step - loss: 1.3825 - accuracy: 0.3304\n",
      "Epoch 3/50\n",
      "28/28 [==============================] - 0s 2ms/step - loss: 1.2550 - accuracy: 0.2946\n",
      "Epoch 4/50\n",
      "28/28 [==============================] - 0s 1ms/step - loss: 1.2135 - accuracy: 0.2232\n",
      "Epoch 5/50\n",
      "28/28 [==============================] - 0s 1ms/step - loss: 1.1854 - accuracy: 0.1696\n",
      "Epoch 6/50\n",
      "28/28 [==============================] - 0s 2ms/step - loss: 1.1501 - accuracy: 0.2857\n",
      "Epoch 7/50\n",
      "28/28 [==============================] - 0s 1ms/step - loss: 1.1170 - accuracy: 0.3304\n",
      "Epoch 8/50\n",
      "28/28 [==============================] - 0s 1ms/step - loss: 1.0876 - accuracy: 0.3929\n",
      "Epoch 9/50\n",
      "28/28 [==============================] - 0s 2ms/step - loss: 1.0619 - accuracy: 0.4554\n",
      "Epoch 10/50\n",
      "28/28 [==============================] - 0s 1ms/step - loss: 1.0427 - accuracy: 0.4375\n",
      "Epoch 11/50\n",
      "28/28 [==============================] - 0s 1ms/step - loss: 1.0221 - accuracy: 0.3839\n",
      "Epoch 12/50\n",
      "28/28 [==============================] - 0s 1ms/step - loss: 0.9998 - accuracy: 0.4554\n",
      "Epoch 13/50\n",
      "28/28 [==============================] - 0s 2ms/step - loss: 0.9793 - accuracy: 0.4821\n",
      "Epoch 14/50\n",
      "28/28 [==============================] - 0s 1ms/step - loss: 0.9635 - accuracy: 0.4821\n",
      "Epoch 15/50\n",
      "28/28 [==============================] - 0s 1ms/step - loss: 0.9448 - accuracy: 0.4732\n",
      "Epoch 16/50\n",
      "28/28 [==============================] - 0s 1ms/step - loss: 0.9268 - accuracy: 0.5000\n",
      "Epoch 17/50\n",
      "28/28 [==============================] - 0s 2ms/step - loss: 0.9142 - accuracy: 0.4821\n",
      "Epoch 18/50\n",
      "28/28 [==============================] - 0s 1ms/step - loss: 0.9053 - accuracy: 0.4732\n",
      "Epoch 19/50\n",
      "28/28 [==============================] - 0s 2ms/step - loss: 0.8777 - accuracy: 0.4911\n",
      "Epoch 20/50\n",
      "28/28 [==============================] - 0s 2ms/step - loss: 0.8653 - accuracy: 0.5000\n",
      "Epoch 21/50\n",
      "28/28 [==============================] - 0s 2ms/step - loss: 0.8485 - accuracy: 0.5179\n",
      "Epoch 22/50\n",
      "28/28 [==============================] - 0s 1ms/step - loss: 0.8339 - accuracy: 0.6250\n",
      "Epoch 23/50\n",
      "28/28 [==============================] - 0s 1ms/step - loss: 0.8170 - accuracy: 0.6964\n",
      "Epoch 24/50\n",
      "28/28 [==============================] - 0s 1ms/step - loss: 0.8085 - accuracy: 0.6518\n",
      "Epoch 25/50\n",
      "28/28 [==============================] - 0s 2ms/step - loss: 0.7943 - accuracy: 0.7857\n",
      "Epoch 26/50\n",
      "28/28 [==============================] - 0s 1ms/step - loss: 0.7805 - accuracy: 0.8125\n",
      "Epoch 27/50\n",
      "28/28 [==============================] - 0s 1ms/step - loss: 0.7624 - accuracy: 0.8214\n",
      "Epoch 28/50\n",
      "28/28 [==============================] - 0s 2ms/step - loss: 0.7524 - accuracy: 0.8661\n",
      "Epoch 29/50\n",
      "28/28 [==============================] - 0s 1ms/step - loss: 0.7436 - accuracy: 0.8214\n",
      "Epoch 30/50\n",
      "28/28 [==============================] - 0s 1ms/step - loss: 0.7309 - accuracy: 0.8661\n",
      "Epoch 31/50\n",
      "28/28 [==============================] - 0s 2ms/step - loss: 0.7125 - accuracy: 0.8750\n",
      "Epoch 32/50\n",
      "28/28 [==============================] - 0s 1ms/step - loss: 0.7042 - accuracy: 0.8839\n",
      "Epoch 33/50\n",
      "28/28 [==============================] - 0s 1ms/step - loss: 0.6915 - accuracy: 0.8929\n",
      "Epoch 34/50\n",
      "28/28 [==============================] - 0s 1ms/step - loss: 0.6792 - accuracy: 0.8661\n",
      "Epoch 35/50\n",
      "28/28 [==============================] - 0s 2ms/step - loss: 0.6673 - accuracy: 0.8929\n",
      "Epoch 36/50\n",
      "28/28 [==============================] - 0s 1ms/step - loss: 0.6546 - accuracy: 0.8929\n",
      "Epoch 37/50\n",
      "28/28 [==============================] - 0s 1ms/step - loss: 0.6420 - accuracy: 0.8839\n",
      "Epoch 38/50\n",
      "28/28 [==============================] - 0s 1ms/step - loss: 0.6314 - accuracy: 0.8929\n",
      "Epoch 39/50\n",
      "28/28 [==============================] - 0s 1ms/step - loss: 0.6198 - accuracy: 0.8839\n",
      "Epoch 40/50\n",
      "28/28 [==============================] - 0s 2ms/step - loss: 0.6104 - accuracy: 0.8839\n",
      "Epoch 41/50\n",
      "28/28 [==============================] - 0s 1ms/step - loss: 0.5978 - accuracy: 0.8839\n",
      "Epoch 42/50\n",
      "28/28 [==============================] - 0s 1ms/step - loss: 0.5923 - accuracy: 0.8750\n",
      "Epoch 43/50\n",
      "28/28 [==============================] - 0s 1ms/step - loss: 0.5708 - accuracy: 0.8929\n",
      "Epoch 44/50\n",
      "28/28 [==============================] - 0s 2ms/step - loss: 0.5556 - accuracy: 0.8839\n",
      "Epoch 45/50\n",
      "28/28 [==============================] - 0s 2ms/step - loss: 0.5460 - accuracy: 0.9018\n",
      "Epoch 46/50\n",
      "28/28 [==============================] - 0s 1ms/step - loss: 0.5342 - accuracy: 0.8929\n",
      "Epoch 47/50\n",
      "28/28 [==============================] - 0s 1ms/step - loss: 0.5226 - accuracy: 0.9018\n",
      "Epoch 48/50\n",
      "28/28 [==============================] - 0s 1ms/step - loss: 0.5114 - accuracy: 0.9107\n",
      "Epoch 49/50\n",
      "28/28 [==============================] - 0s 1ms/step - loss: 0.5042 - accuracy: 0.8839\n",
      "Epoch 50/50\n",
      "28/28 [==============================] - 0s 2ms/step - loss: 0.4931 - accuracy: 0.9018\n"
     ]
    },
    {
     "data": {
      "text/plain": [
       "<keras.callbacks.History at 0x18626bffca0>"
      ]
     },
     "execution_count": 10,
     "metadata": {},
     "output_type": "execute_result"
    }
   ],
   "source": [
    "# 모델 실행\n",
    "model.fit(X_train, y_train, epochs=50, batch_size=4)"
   ]
  },
  {
   "cell_type": "code",
   "execution_count": 11,
   "metadata": {
    "colab": {
     "base_uri": "https://localhost:8080/"
    },
    "executionInfo": {
     "elapsed": 496,
     "status": "ok",
     "timestamp": 1652162501720,
     "user": {
      "displayName": "Jiyoung Kang",
      "userId": "02538451806768451589"
     },
     "user_tz": -540
    },
    "id": "UBAzUScutMuM",
    "outputId": "90bc24d8-2ff1-42b2-9980-85c45178cdee"
   },
   "outputs": [
    {
     "name": "stdout",
     "output_type": "stream",
     "text": [
      "2/2 [==============================] - 0s 4ms/step - loss: 0.5287 - accuracy: 0.8421\n"
     ]
    },
    {
     "data": {
      "text/plain": [
       "[0.5286850929260254, 0.8421052694320679]"
      ]
     },
     "execution_count": 11,
     "metadata": {},
     "output_type": "execute_result"
    }
   ],
   "source": [
    "model.evaluate(X_test, y_test)"
   ]
  },
  {
   "cell_type": "code",
   "execution_count": 12,
   "metadata": {
    "colab": {
     "base_uri": "https://localhost:8080/"
    },
    "executionInfo": {
     "elapsed": 406,
     "status": "ok",
     "timestamp": 1652162502119,
     "user": {
      "displayName": "Jiyoung Kang",
      "userId": "02538451806768451589"
     },
     "user_tz": -540
    },
    "id": "jzuYNWxBtMuN",
    "outputId": "507a3518-b09a-4710-8d05-073e549f67bd"
   },
   "outputs": [
    {
     "name": "stdout",
     "output_type": "stream",
     "text": [
      "2/2 [==============================] - 0s 4ms/step\n"
     ]
    },
    {
     "data": {
      "text/plain": [
       "array([0.6516344 , 0.24257477, 0.1057908 ], dtype=float32)"
      ]
     },
     "execution_count": 12,
     "metadata": {},
     "output_type": "execute_result"
    }
   ],
   "source": [
    "model.predict(X_test)[0]"
   ]
  },
  {
   "cell_type": "code",
   "execution_count": 13,
   "metadata": {
    "colab": {
     "base_uri": "https://localhost:8080/"
    },
    "executionInfo": {
     "elapsed": 4,
     "status": "ok",
     "timestamp": 1652162502119,
     "user": {
      "displayName": "Jiyoung Kang",
      "userId": "02538451806768451589"
     },
     "user_tz": -540
    },
    "id": "zdayPkottMuN",
    "outputId": "951fe4e0-5341-4b17-9fdd-17aa594021bb"
   },
   "outputs": [
    {
     "name": "stdout",
     "output_type": "stream",
     "text": [
      "2/2 [==============================] - 0s 4ms/step\n"
     ]
    },
    {
     "data": {
      "text/plain": [
       "0"
      ]
     },
     "execution_count": 13,
     "metadata": {},
     "output_type": "execute_result"
    }
   ],
   "source": [
    "# 테스트 데이터로 예측한 값이 가장 큰 값을 반환(argmax)한 결과\n",
    "np.argmax(model.predict(X_test)[0])"
   ]
  },
  {
   "cell_type": "code",
   "execution_count": 14,
   "metadata": {
    "colab": {
     "base_uri": "https://localhost:8080/"
    },
    "executionInfo": {
     "elapsed": 3,
     "status": "ok",
     "timestamp": 1652162502120,
     "user": {
      "displayName": "Jiyoung Kang",
      "userId": "02538451806768451589"
     },
     "user_tz": -540
    },
    "id": "bKX8SyQ3tMuN",
    "outputId": "532f1e46-250f-44f2-8241-a8a2602d7ac9"
   },
   "outputs": [
    {
     "data": {
      "text/plain": [
       "0"
      ]
     },
     "execution_count": 14,
     "metadata": {},
     "output_type": "execute_result"
    }
   ],
   "source": [
    "# 테스트셋의 실제값\n",
    "y_test.iloc[0]"
   ]
  },
  {
   "cell_type": "markdown",
   "metadata": {
    "id": "CIJbtcqpjkzO"
   },
   "source": [
    "### 전체 소스 코드"
   ]
  },
  {
   "cell_type": "code",
   "execution_count": 17,
   "metadata": {
    "colab": {
     "base_uri": "https://localhost:8080/"
    },
    "executionInfo": {
     "elapsed": 6737,
     "status": "ok",
     "timestamp": 1652162508855,
     "user": {
      "displayName": "Jiyoung Kang",
      "userId": "02538451806768451589"
     },
     "user_tz": -540
    },
    "id": "6cW9mIVGtMuO",
    "outputId": "f5261c37-9e9a-4058-90d6-b57b3eda8f4c"
   },
   "outputs": [
    {
     "name": "stdout",
     "output_type": "stream",
     "text": [
      "Epoch 1/50\n",
      "28/28 [==============================] - 0s 1ms/step - loss: 1.0689 - accuracy: 0.3482\n",
      "Epoch 2/50\n",
      "28/28 [==============================] - 0s 1ms/step - loss: 1.0435 - accuracy: 0.3393\n",
      "Epoch 3/50\n",
      "28/28 [==============================] - 0s 1ms/step - loss: 1.0198 - accuracy: 0.7143\n",
      "Epoch 4/50\n",
      "28/28 [==============================] - 0s 1ms/step - loss: 0.9980 - accuracy: 0.8125\n",
      "Epoch 5/50\n",
      "28/28 [==============================] - 0s 1ms/step - loss: 0.9778 - accuracy: 0.7143\n",
      "Epoch 6/50\n",
      "28/28 [==============================] - 0s 1ms/step - loss: 0.9569 - accuracy: 0.8571\n",
      "Epoch 7/50\n",
      "28/28 [==============================] - 0s 2ms/step - loss: 0.9381 - accuracy: 0.6875\n",
      "Epoch 8/50\n",
      "28/28 [==============================] - 0s 995us/step - loss: 0.9183 - accuracy: 0.7500\n",
      "Epoch 9/50\n",
      "28/28 [==============================] - 0s 2ms/step - loss: 0.8994 - accuracy: 0.6696\n",
      "Epoch 10/50\n",
      "28/28 [==============================] - 0s 1ms/step - loss: 0.8811 - accuracy: 0.6786\n",
      "Epoch 11/50\n",
      "28/28 [==============================] - 0s 1ms/step - loss: 0.8638 - accuracy: 0.6786\n",
      "Epoch 12/50\n",
      "28/28 [==============================] - 0s 1ms/step - loss: 0.8468 - accuracy: 0.6696\n",
      "Epoch 13/50\n",
      "28/28 [==============================] - 0s 2ms/step - loss: 0.8306 - accuracy: 0.6696\n",
      "Epoch 14/50\n",
      "28/28 [==============================] - 0s 1ms/step - loss: 0.8161 - accuracy: 0.6696\n",
      "Epoch 15/50\n",
      "28/28 [==============================] - 0s 1ms/step - loss: 0.8011 - accuracy: 0.6696\n",
      "Epoch 16/50\n",
      "28/28 [==============================] - 0s 1ms/step - loss: 0.7876 - accuracy: 0.6786\n",
      "Epoch 17/50\n",
      "28/28 [==============================] - 0s 1ms/step - loss: 0.7750 - accuracy: 0.6696\n",
      "Epoch 18/50\n",
      "28/28 [==============================] - 0s 1ms/step - loss: 0.7625 - accuracy: 0.6696\n",
      "Epoch 19/50\n",
      "28/28 [==============================] - 0s 1ms/step - loss: 0.7506 - accuracy: 0.6696\n",
      "Epoch 20/50\n",
      "28/28 [==============================] - 0s 2ms/step - loss: 0.7398 - accuracy: 0.6786\n",
      "Epoch 21/50\n",
      "28/28 [==============================] - 0s 2ms/step - loss: 0.7288 - accuracy: 0.6696\n",
      "Epoch 22/50\n",
      "28/28 [==============================] - 0s 1ms/step - loss: 0.7194 - accuracy: 0.6786\n",
      "Epoch 23/50\n",
      "28/28 [==============================] - 0s 2ms/step - loss: 0.7096 - accuracy: 0.6696\n",
      "Epoch 24/50\n",
      "28/28 [==============================] - 0s 1ms/step - loss: 0.7007 - accuracy: 0.6786\n",
      "Epoch 25/50\n",
      "28/28 [==============================] - 0s 1ms/step - loss: 0.6925 - accuracy: 0.6786\n",
      "Epoch 26/50\n",
      "28/28 [==============================] - 0s 1ms/step - loss: 0.6843 - accuracy: 0.6875\n",
      "Epoch 27/50\n",
      "28/28 [==============================] - 0s 2ms/step - loss: 0.6772 - accuracy: 0.6786\n",
      "Epoch 28/50\n",
      "28/28 [==============================] - 0s 1ms/step - loss: 0.6698 - accuracy: 0.6875\n",
      "Epoch 29/50\n",
      "28/28 [==============================] - 0s 1ms/step - loss: 0.6629 - accuracy: 0.6875\n",
      "Epoch 30/50\n",
      "28/28 [==============================] - 0s 1ms/step - loss: 0.6567 - accuracy: 0.6875\n",
      "Epoch 31/50\n",
      "28/28 [==============================] - 0s 1ms/step - loss: 0.6510 - accuracy: 0.6786\n",
      "Epoch 32/50\n",
      "28/28 [==============================] - 0s 1ms/step - loss: 0.6448 - accuracy: 0.6875\n",
      "Epoch 33/50\n",
      "28/28 [==============================] - 0s 2ms/step - loss: 0.6390 - accuracy: 0.6964\n",
      "Epoch 34/50\n",
      "28/28 [==============================] - 0s 1ms/step - loss: 0.6338 - accuracy: 0.6875\n",
      "Epoch 35/50\n",
      "28/28 [==============================] - 0s 1ms/step - loss: 0.6286 - accuracy: 0.6964\n",
      "Epoch 36/50\n",
      "28/28 [==============================] - 0s 1ms/step - loss: 0.6242 - accuracy: 0.6875\n",
      "Epoch 37/50\n",
      "28/28 [==============================] - 0s 1ms/step - loss: 0.6195 - accuracy: 0.6875\n",
      "Epoch 38/50\n",
      "28/28 [==============================] - 0s 1ms/step - loss: 0.6152 - accuracy: 0.6875\n",
      "Epoch 39/50\n",
      "28/28 [==============================] - 0s 1ms/step - loss: 0.6110 - accuracy: 0.6875\n",
      "Epoch 40/50\n",
      "28/28 [==============================] - 0s 2ms/step - loss: 0.6070 - accuracy: 0.6875\n",
      "Epoch 41/50\n",
      "28/28 [==============================] - 0s 1ms/step - loss: 0.6034 - accuracy: 0.6964\n",
      "Epoch 42/50\n",
      "28/28 [==============================] - 0s 1ms/step - loss: 0.5993 - accuracy: 0.6964\n",
      "Epoch 43/50\n",
      "28/28 [==============================] - 0s 1ms/step - loss: 0.5958 - accuracy: 0.6964\n",
      "Epoch 44/50\n",
      "28/28 [==============================] - 0s 1ms/step - loss: 0.5923 - accuracy: 0.6964\n",
      "Epoch 45/50\n",
      "28/28 [==============================] - 0s 1ms/step - loss: 0.5895 - accuracy: 0.6964\n",
      "Epoch 46/50\n",
      "28/28 [==============================] - 0s 1ms/step - loss: 0.5863 - accuracy: 0.6964\n",
      "Epoch 47/50\n",
      "28/28 [==============================] - 0s 1ms/step - loss: 0.5831 - accuracy: 0.6964\n",
      "Epoch 48/50\n",
      "28/28 [==============================] - 0s 1ms/step - loss: 0.5802 - accuracy: 0.6964\n",
      "Epoch 49/50\n",
      "28/28 [==============================] - 0s 1ms/step - loss: 0.5775 - accuracy: 0.6964\n",
      "Epoch 50/50\n",
      "28/28 [==============================] - 0s 1ms/step - loss: 0.5753 - accuracy: 0.6964\n",
      "2/2 [==============================] - 0s 4ms/step - loss: 0.5871 - accuracy: 0.7105\n",
      "2/2 [==============================] - 0s 1ms/step\n"
     ]
    },
    {
     "data": {
      "text/plain": [
       "array([0.820585  , 0.11579648, 0.06361847], dtype=float32)"
      ]
     },
     "execution_count": 17,
     "metadata": {},
     "output_type": "execute_result"
    }
   ],
   "source": [
    "import numpy as np\n",
    "import pandas as pd\n",
    "import matplotlib.pyplot as plt\n",
    "import seaborn as sns\n",
    "from sklearn.datasets import load_iris\n",
    "from sklearn.model_selection import train_test_split\n",
    "import tensorflow as tf\n",
    "from tensorflow.keras.models import Sequential\n",
    "from tensorflow.keras.layers import Dense\n",
    "\n",
    "# 데이터 불러오기\n",
    "iris = load_iris()\n",
    "df = pd.DataFrame(data=iris.data, columns=iris.feature_names)\n",
    "df['label'] = iris.target\n",
    "\n",
    "# 데이터분할\n",
    "y = df['label']\n",
    "X = df.drop(['label'], axis=1)\n",
    "\n",
    "X_train, X_test, y_train, y_test = train_test_split(X, y, random_state=42, stratify=y)\n",
    "\n",
    "# 모델의 설정\n",
    "model = Sequential()\n",
    "model.add(Dense(8, input_dim=4, activation='softmax'))\n",
    "model.add(Dense(3, activation='softmax'))\n",
    "\n",
    "# 모델 컴파일\n",
    "model.compile(loss='sparse_categorical_crossentropy',\n",
    "            optimizer='SGD',\n",
    "            metrics=['accuracy'])\n",
    "\n",
    "# history = model.fit(X_train,y_target,epochs=20,verbose=0, validation_data=(val)\n",
    "# 모델 실행\n",
    "model.fit(X_train, y_train, epochs=50, batch_size=4)\n",
    "\n",
    "# 모델 평가\n",
    "model.evaluate(X_test, y_test)\n",
    "\n",
    "# 값 예측\n",
    "model.predict(X_test)[0]"
   ]
  },
  {
   "cell_type": "code",
   "execution_count": 16,
   "metadata": {},
   "outputs": [
    {
     "name": "stdout",
     "output_type": "stream",
     "text": [
      "2/2 [==============================] - 0s 5ms/step\n"
     ]
    },
    {
     "data": {
      "text/plain": [
       "array([0.9469274 , 0.05093049, 0.00214204], dtype=float32)"
      ]
     },
     "execution_count": 16,
     "metadata": {},
     "output_type": "execute_result"
    }
   ],
   "source": [
    "model.predict(X_test)[0]"
   ]
  },
  {
   "cell_type": "code",
   "execution_count": null,
   "metadata": {},
   "outputs": [],
   "source": []
  }
 ],
 "metadata": {
  "colab": {
   "collapsed_sections": [],
   "name": "6-3_실습_인공신경망학습_iris.ipynb",
   "provenance": []
  },
  "kernelspec": {
   "display_name": "Python 3 (ipykernel)",
   "language": "python",
   "name": "python3"
  },
  "language_info": {
   "codemirror_mode": {
    "name": "ipython",
    "version": 3
   },
   "file_extension": ".py",
   "mimetype": "text/x-python",
   "name": "python",
   "nbconvert_exporter": "python",
   "pygments_lexer": "ipython3",
   "version": "3.10.9"
  },
  "toc": {
   "base_numbering": 1,
   "nav_menu": {},
   "number_sections": false,
   "sideBar": true,
   "skip_h1_title": false,
   "title_cell": "Table of Contents",
   "title_sidebar": "Contents",
   "toc_cell": false,
   "toc_position": {},
   "toc_section_display": true,
   "toc_window_display": false
  }
 },
 "nbformat": 4,
 "nbformat_minor": 1
}
