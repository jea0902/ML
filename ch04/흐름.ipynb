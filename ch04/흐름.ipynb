{
 "cells": [
  {
   "cell_type": "markdown",
   "id": "3c028c87",
   "metadata": {},
   "source": [
    "1. 데이터 셋\n",
    "2. train_data(모델 학습)/test_date(정확도)\n",
    "3. 모델 선택/학습(Fitting)\n",
    "4. 모델별 평가지표 평가\n",
    "5. 그래프(확인)"
   ]
  }
 ],
 "metadata": {
  "kernelspec": {
   "display_name": "Python 3 (ipykernel)",
   "language": "python",
   "name": "python3"
  },
  "language_info": {
   "codemirror_mode": {
    "name": "ipython",
    "version": 3
   },
   "file_extension": ".py",
   "mimetype": "text/x-python",
   "name": "python",
   "nbconvert_exporter": "python",
   "pygments_lexer": "ipython3",
   "version": "3.10.9"
  }
 },
 "nbformat": 4,
 "nbformat_minor": 5
}
