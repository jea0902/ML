{
 "cells": [
  {
   "cell_type": "markdown",
   "id": "8a90e5b2",
   "metadata": {},
   "source": [
    "1. 결측치 처리\n",
    "2. 이상치 처리\n",
    "3. 데이터 변경 (로그 함수, 지수함수...)\n",
    "4. 스케일(데이터 범위 맞춰서 데이터를 좀 더 정확하게 맞추기 위해서)\n",
    "- 표준화(표준 정규분포화 : 평균:U(0), 표준편차: 1시그마~6시그마) : StandardScaler(), MinMaxScaler(), MaxAbsScaler()\n",
    "\n",
    "- 정규화 : 데이터의 범위를 0~1 사이로 줄여주거나 늘려주는 것:\n",
    "\n",
    "- RobustScaler()\n",
    "- Normalizer(각행의 값을 변경시켜 주는 것)\n",
    "\n",
    "- Row 단위 스케일러\n",
    "\n",
    "5. 피처링(Featureing)\n",
    "6. 더미 베리어블(Dummy Variable) - 코드화"
   ]
  }
 ],
 "metadata": {
  "kernelspec": {
   "display_name": "Python 3 (ipykernel)",
   "language": "python",
   "name": "python3"
  },
  "language_info": {
   "codemirror_mode": {
    "name": "ipython",
    "version": 3
   },
   "file_extension": ".py",
   "mimetype": "text/x-python",
   "name": "python",
   "nbconvert_exporter": "python",
   "pygments_lexer": "ipython3",
   "version": "3.10.9"
  }
 },
 "nbformat": 4,
 "nbformat_minor": 5
}
