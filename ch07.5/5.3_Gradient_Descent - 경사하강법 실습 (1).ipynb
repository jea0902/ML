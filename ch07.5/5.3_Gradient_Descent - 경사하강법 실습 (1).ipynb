{
 "cells": [
  {
   "cell_type": "markdown",
   "id": "98b97179",
   "metadata": {},
   "source": [
    "## 5.3 Gradient Descent\n",
    "- 1차 근삿값 발견용 최적화 알고리즘\n",
    ": 함수의 기울기를 구하고, 경사 반대 방향으로 계속 이동시켜 극값에 이를 때까지 반복.\n",
    "\n",
    ":앞이 보이지 않는 안개가 낀 산을 내려올 때는 모든 방향으로 산을 더듬어가며 산의 높이가 가장 낮아지는 방향으로 한 발씩 내딛어갈 수 있다."
   ]
  },
  {
   "cell_type": "markdown",
   "id": "8d6e5a1a",
   "metadata": {},
   "source": [
    "**실제값을 Y=4X+6 시뮬레이션하는 데이터 값 생성**"
   ]
  },
  {
   "cell_type": "code",
   "execution_count": 3,
   "id": "1f78a441",
   "metadata": {},
   "outputs": [
    {
     "name": "stdout",
     "output_type": "stream",
     "text": [
      "[[0.5488135 ]\n",
      " [0.71518937]\n",
      " [0.60276338]\n",
      " [0.54488318]\n",
      " [0.4236548 ]\n",
      " [0.64589411]\n",
      " [0.43758721]\n",
      " [0.891773  ]\n",
      " [0.96366276]\n",
      " [0.38344152]\n",
      " [0.79172504]\n",
      " [0.52889492]\n",
      " [0.56804456]\n",
      " [0.92559664]\n",
      " [0.07103606]\n",
      " [0.0871293 ]\n",
      " [0.0202184 ]\n",
      " [0.83261985]\n",
      " [0.77815675]\n",
      " [0.87001215]\n",
      " [0.97861834]\n",
      " [0.79915856]\n",
      " [0.46147936]\n",
      " [0.78052918]\n",
      " [0.11827443]\n",
      " [0.63992102]\n",
      " [0.14335329]\n",
      " [0.94466892]\n",
      " [0.52184832]\n",
      " [0.41466194]\n",
      " [0.26455561]\n",
      " [0.77423369]\n",
      " [0.45615033]\n",
      " [0.56843395]\n",
      " [0.0187898 ]\n",
      " [0.6176355 ]\n",
      " [0.61209572]\n",
      " [0.616934  ]\n",
      " [0.94374808]\n",
      " [0.6818203 ]\n",
      " [0.3595079 ]\n",
      " [0.43703195]\n",
      " [0.6976312 ]\n",
      " [0.06022547]\n",
      " [0.66676672]\n",
      " [0.67063787]\n",
      " [0.21038256]\n",
      " [0.1289263 ]\n",
      " [0.31542835]\n",
      " [0.36371077]\n",
      " [0.57019677]\n",
      " [0.43860151]\n",
      " [0.98837384]\n",
      " [0.10204481]\n",
      " [0.20887676]\n",
      " [0.16130952]\n",
      " [0.65310833]\n",
      " [0.2532916 ]\n",
      " [0.46631077]\n",
      " [0.24442559]\n",
      " [0.15896958]\n",
      " [0.11037514]\n",
      " [0.65632959]\n",
      " [0.13818295]\n",
      " [0.19658236]\n",
      " [0.36872517]\n",
      " [0.82099323]\n",
      " [0.09710128]\n",
      " [0.83794491]\n",
      " [0.09609841]\n",
      " [0.97645947]\n",
      " [0.4686512 ]\n",
      " [0.97676109]\n",
      " [0.60484552]\n",
      " [0.73926358]\n",
      " [0.03918779]\n",
      " [0.28280696]\n",
      " [0.12019656]\n",
      " [0.2961402 ]\n",
      " [0.11872772]\n",
      " [0.31798318]\n",
      " [0.41426299]\n",
      " [0.0641475 ]\n",
      " [0.69247212]\n",
      " [0.56660145]\n",
      " [0.26538949]\n",
      " [0.52324805]\n",
      " [0.09394051]\n",
      " [0.5759465 ]\n",
      " [0.9292962 ]\n",
      " [0.31856895]\n",
      " [0.66741038]\n",
      " [0.13179786]\n",
      " [0.7163272 ]\n",
      " [0.28940609]\n",
      " [0.18319136]\n",
      " [0.58651293]\n",
      " [0.02010755]\n",
      " [0.82894003]\n",
      " [0.00469548]]\n"
     ]
    },
    {
     "data": {
      "text/plain": [
       "<matplotlib.collections.PathCollection at 0x1c9052e4640>"
      ]
     },
     "execution_count": 3,
     "metadata": {},
     "output_type": "execute_result"
    },
    {
     "data": {
      "image/png": "[encoded data removed]",
      "text/plain": [
       "<Figure size 640x480 with 1 Axes>"
      ]
     },
     "metadata": {},
     "output_type": "display_data"
    }
   ],
   "source": [
    "import numpy as np\n",
    "import matplotlib.pyplot as plt\n",
    "%matplotlib inline\n",
    "\n",
    "np.random.seed(0)\n",
    "# y = 4X + 6 식을 근사(w1=4, w0=6) random 같은 노이즈를 위해 만듦\n",
    "print(np.random.randn(100,1)\n",
    "X = 2*np.random.rand(100,1) # 1까지의 값 100게\n",
    "y = 6 + 4*X + np.random.randn(100,1) #\n",
    "\n",
    "#X,y 데이터셋 scatter plot으로 시각화\n",
    "plt.scatter(X,y)"
   ]
  },
  {
   "cell_type": "code",
   "execution_count": 4,
   "id": "56b094ce",
   "metadata": {},
   "outputs": [
    {
     "data": {
      "text/plain": [
       "((100, 1), (100, 1))"
      ]
     },
     "execution_count": 4,
     "metadata": {},
     "output_type": "execute_result"
    }
   ],
   "source": [
    "X.shape, y.shape"
   ]
  },
  {
   "cell_type": "code",
   "execution_count": 10,
   "id": "7fcee765",
   "metadata": {
    "scrolled": true
   },
   "outputs": [],
   "source": [
    "# w1 과 w0 를 업데이트 할 w1_update, w0_update를 반환. \n",
    "def get_weight_updates(w1, w0, X, y, learning_rate=0.01):\n",
    "    N = len(y)\n",
    "    # 먼저 w1_update, w0_update를 각각 w1, w0의 shape와 동일한 크기를 가진 0 값으로 초기화\n",
    "    w1_update = np.zeros_like(w1)\n",
    "    w0_update = np.zeros_like(w0)\n",
    "    # 예측 배열 계산하고 예측과 실제 값의 차이 계산\n",
    "    y_pred = np.dot(X, w1.T) + w0\n",
    "    diff = y-y_pred\n",
    "    \n",
    "    # 파이썬 넘파이 내적 함수 : np.dot()\n",
    "    # : 2개의 input만을 받음.\n",
    "    # 벡터 내적 : 1차원 x 1차원\n",
    "    \n",
    "#     a = np.array([1,3,5])\n",
    "#     b = np.array([4,2,1])\n",
    "#     print(np.dot(a,b)) # 결과 1x4 + 3x2 + 5x1 = 15\n",
    "         \n",
    "    # w0_update를 dot 행렬 연산으로 구하기 위해 모두 1값을 가진 행렬 생성 \n",
    "    w0_factors = np.ones((N,1))\n",
    "\n",
    "    # w1과 w0을 업데이트할 w1_update와 w0_update 계산\n",
    "    w1_update = -(2/N)*learning_rate*(np.dot(X.T, diff))\n",
    "    w0_update = -(2/N)*learning_rate*(np.dot(w0_factors.T, diff))    \n",
    "    \n",
    "    return w1_update, w0_update"
   ]
  },
  {
   "cell_type": "markdown",
   "id": "7f251625",
   "metadata": {},
   "source": [
    "** w0과 w1의 값을 최소화 할 수 있도록 업데이트 수행하는 함수 생성.**\n",
    "\n",
    "* 예측 배열 y_pred는 np.dot(X, w1.T) + w0 임\n",
    "100개의 데이터 X(1,2,...,100)이 있다면 예측값은 w0 + X(1)*w1 + X(2)*w1 +..+ X(100)*w1이며, 이는 입력 배열 X와 w1 배열의 내적임.\n",
    "* 새로운 w1과 w0를 update함\n",
    "![](./image01.png)"
   ]
  },
  {
   "cell_type": "code",
   "execution_count": null,
   "id": "8a6cfa45",
   "metadata": {},
   "outputs": [],
   "source": []
  }
 ],
 "metadata": {
  "kernelspec": {
   "display_name": "Python 3 (ipykernel)",
   "language": "python",
   "name": "python3"
  },
  "language_info": {
   "codemirror_mode": {
    "name": "ipython",
    "version": 3
   },
   "file_extension": ".py",
   "mimetype": "text/x-python",
   "name": "python",
   "nbconvert_exporter": "python",
   "pygments_lexer": "ipython3",
   "version": "3.10.9"
  }
 },
 "nbformat": 4,
 "nbformat_minor": 5
}
